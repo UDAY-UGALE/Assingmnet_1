{
 "cells": [
  {
   "cell_type": "markdown",
   "id": "94b28385",
   "metadata": {},
   "source": [
    "# 1. What exactly is []?"
   ]
  },
  {
   "cell_type": "markdown",
   "id": "e5fdffc0",
   "metadata": {},
   "source": [
    "The empty list "
   ]
  },
  {
   "cell_type": "markdown",
   "id": "3d8cf3d1",
   "metadata": {},
   "source": [
    "# 2. In a list of values stored in a variable called spam, how would you assign the value &#39;hello&#39; as the third value? (Assume [2, 4, 6, 8, 10] are in spam.)"
   ]
  },
  {
   "cell_type": "markdown",
   "id": "00f65a06",
   "metadata": {},
   "source": [
    "spam[2] = 'hello' (third value in a list is at index 2 )"
   ]
  },
  {
   "cell_type": "markdown",
   "id": "23265bd7",
   "metadata": {},
   "source": [
    "# Let&#39;s pretend the spam includes the list ['a','b','c','d'] for the next three queries.\n",
    "3. What is the value of spam[int(int('3' * 2) / 11)]?\n",
    "4. What is the value of spam[-1]?\n",
    "5. What is the value of spam[:2]?"
   ]
  },
  {
   "cell_type": "code",
   "execution_count": 2,
   "id": "c80f6720",
   "metadata": {},
   "outputs": [
    {
     "data": {
      "text/plain": [
       "'d'"
      ]
     },
     "execution_count": 2,
     "metadata": {},
     "output_type": "execute_result"
    }
   ],
   "source": [
    "spam =['a','b','c','d']\n",
    "spam[int(int('3' * 2) / 11)]"
   ]
  },
  {
   "cell_type": "code",
   "execution_count": 3,
   "id": "91177b39",
   "metadata": {},
   "outputs": [
    {
     "data": {
      "text/plain": [
       "'d'"
      ]
     },
     "execution_count": 3,
     "metadata": {},
     "output_type": "execute_result"
    }
   ],
   "source": [
    "spam[-1]"
   ]
  },
  {
   "cell_type": "code",
   "execution_count": 4,
   "id": "9b6209b0",
   "metadata": {},
   "outputs": [
    {
     "data": {
      "text/plain": [
       "['a', 'b']"
      ]
     },
     "execution_count": 4,
     "metadata": {},
     "output_type": "execute_result"
    }
   ],
   "source": [
    "spam[:2]"
   ]
  },
  {
   "cell_type": "markdown",
   "id": "55cf428e",
   "metadata": {},
   "source": [
    "# Let's pretend bacon has the list [3.14,'cat',11,'cat' , True] for the next three questions.\n",
    "6. What is the value of bacon.index(&#39;cat&#39;)?\n",
    "7. How does bacon.append(99) change the look of the list value in bacon?\n",
    "8. How does bacon.remove(&#39;cat&#39;) change the look of the list in bacon?"
   ]
  },
  {
   "cell_type": "code",
   "execution_count": 8,
   "id": "49f54303",
   "metadata": {},
   "outputs": [
    {
     "data": {
      "text/plain": [
       "1"
      ]
     },
     "execution_count": 8,
     "metadata": {},
     "output_type": "execute_result"
    }
   ],
   "source": [
    "bacon=[3.14,'cat',11,'cat',True]\n",
    "bacon.index('cat')"
   ]
  },
  {
   "cell_type": "code",
   "execution_count": 9,
   "id": "11748f62",
   "metadata": {},
   "outputs": [
    {
     "data": {
      "text/plain": [
       "[3.14, 'cat', 11, 'cat', True, 99]"
      ]
     },
     "execution_count": 9,
     "metadata": {},
     "output_type": "execute_result"
    }
   ],
   "source": [
    "bacon.append(99)\n",
    "bacon"
   ]
  },
  {
   "cell_type": "code",
   "execution_count": 10,
   "id": "b1d59c65",
   "metadata": {},
   "outputs": [
    {
     "data": {
      "text/plain": [
       "[3.14, 11, 'cat', True, 99]"
      ]
     },
     "execution_count": 10,
     "metadata": {},
     "output_type": "execute_result"
    }
   ],
   "source": [
    "bacon.remove('cat')\n",
    "bacon"
   ]
  },
  {
   "cell_type": "markdown",
   "id": "ad5c10b5",
   "metadata": {},
   "source": [
    "# 9. What are the list concatenation and list replication operators?"
   ]
  },
  {
   "cell_type": "markdown",
   "id": "3cfbad70",
   "metadata": {},
   "source": [
    "1:List Concatenation (+):\n",
    "The + operator is used to combine two or more lists into a single list. When you use the + operator to concatenate lists, \n",
    "a new list is created that contains all the elements from the original lists in the order they appear.\n",
    "\n",
    "\n",
    "2:List Replication (*):\n",
    "The * operator is used to replicate a list by repeating its elements a specified number of times. You can create \n",
    "a new list with the elements of the original list repeated multiple times.\n"
   ]
  },
  {
   "cell_type": "markdown",
   "id": "b4436c56",
   "metadata": {},
   "source": [
    "# 10 . What is difference between the list methods append() and insert()?"
   ]
  },
  {
   "cell_type": "markdown",
   "id": "b0c40b94",
   "metadata": {},
   "source": [
    "1:append() Method:\n",
    "\n",
    "-The append() method is used to add an element to the end of a list.\n",
    "\n",
    "-It takes one argument, which is the element you want to add to the list.\n",
    "\n",
    "2:insert() Method:\n",
    "\n",
    "-The insert() method is used to add an element at a specific index within the list.\n",
    "\n",
    "-It takes two arguments: the first argument is the index where you want to insert the element, and the second argument is the element itself."
   ]
  },
  {
   "cell_type": "markdown",
   "id": "b7023457",
   "metadata": {},
   "source": [
    "# 11. What are the two methods for removing items from a list?"
   ]
  },
  {
   "cell_type": "markdown",
   "id": "72aea8cc",
   "metadata": {},
   "source": [
    "In Python, we can remove items from a list using two primary methods: remove() and pop(). "
   ]
  },
  {
   "cell_type": "markdown",
   "id": "3a0262a9",
   "metadata": {},
   "source": [
    "# 12. Describe how list values and string values are identical."
   ]
  },
  {
   "cell_type": "markdown",
   "id": "f4cb543e",
   "metadata": {},
   "source": [
    " The similarity between Lists and Strings in Python is that both are sequences. The differences between them are that firstly, Lists are mutable but Strings are immutable.\n",
    " \n",
    " Secondly, elements of a list can be of different types whereas a String only contains characters that are all of String type."
   ]
  },
  {
   "cell_type": "markdown",
   "id": "9ea0e894",
   "metadata": {},
   "source": [
    "# 13. What's the difference between tuples and lists?"
   ]
  },
  {
   "cell_type": "markdown",
   "id": "ae3c2a11",
   "metadata": {},
   "source": [
    "The list is dynamic, whereas the tuple has static characteristics. \n",
    "This means that lists can be modified whereas tuples cannot be modified, \n",
    "the tuple is faster than the list because of static in nature. \n",
    "Lists are denoted by the square brackets but tuples are denoted as parenthesis."
   ]
  },
  {
   "cell_type": "markdown",
   "id": "d8e11879",
   "metadata": {},
   "source": [
    "# 14. How do you type a tuple value that only contains the integer 42?"
   ]
  },
  {
   "cell_type": "code",
   "execution_count": 16,
   "id": "4075e177",
   "metadata": {},
   "outputs": [
    {
     "data": {
      "text/plain": [
       "(42,)"
      ]
     },
     "execution_count": 16,
     "metadata": {},
     "output_type": "execute_result"
    }
   ],
   "source": [
    "my_tuple = (42,)\n",
    "my_tuple"
   ]
  },
  {
   "cell_type": "markdown",
   "id": "c74a1602",
   "metadata": {},
   "source": [
    "# 15. How do you get a list value&#39;s tuple form? How do you get a tuple value's list form? "
   ]
  },
  {
   "cell_type": "code",
   "execution_count": 17,
   "id": "06b87e0a",
   "metadata": {},
   "outputs": [],
   "source": [
    "'''You can convert a list to a tuple in Python using the tuple() constructor,\n",
    "and you can convert a tuple to a list using the list() constructor.'''\n",
    "# list to tuple\n",
    "my_list = [1, 2, 3, 4]\n",
    "my_tuple = tuple(my_list)\n",
    "\n",
    "# tuple to list\n",
    "my_tuple = (1, 2, 3, 4)\n",
    "my_list = list(my_tuple)\n",
    "\n"
   ]
  },
  {
   "cell_type": "markdown",
   "id": "007f57db",
   "metadata": {},
   "source": [
    "# 16. Variables that &quot;contain&quot; list values are not necessarily lists themselves. Instead, what do they contain?"
   ]
  },
  {
   "cell_type": "markdown",
   "id": "6aad9647",
   "metadata": {},
   "source": [
    "Variables will contain references to list values rather than list values themselves. \n",
    "But for strings and integer values, variables simply contain the string or integer value."
   ]
  },
  {
   "cell_type": "markdown",
   "id": "5ee88027",
   "metadata": {},
   "source": [
    "# 17. How do you distinguish between copy.copy() and copy.deepcopy()?"
   ]
  },
  {
   "cell_type": "markdown",
   "id": "09a808aa",
   "metadata": {},
   "source": [
    "1:copy.copy() (Shallow Copy):\n",
    "\n",
    "copy.copy() creates a shallow copy of an object.\n",
    "\n",
    "This means it creates a new object, but it doesn't rcursively copy the objects contained within the original object.\n",
    "\n",
    "2:copy.deepcopy() (Deep Copy):\n",
    "\n",
    "copy.deepcopy() creates a deep copy of an object. It recursively copies all objects contained within the original object, \n",
    "\n",
    "creating new instances for each nested object."
   ]
  },
  {
   "cell_type": "code",
   "execution_count": null,
   "id": "50ec3eb7",
   "metadata": {},
   "outputs": [],
   "source": []
  }
 ],
 "metadata": {
  "kernelspec": {
   "display_name": "Python 3 (ipykernel)",
   "language": "python",
   "name": "python3"
  },
  "language_info": {
   "codemirror_mode": {
    "name": "ipython",
    "version": 3
   },
   "file_extension": ".py",
   "mimetype": "text/x-python",
   "name": "python",
   "nbconvert_exporter": "python",
   "pygments_lexer": "ipython3",
   "version": "3.9.7"
  }
 },
 "nbformat": 4,
 "nbformat_minor": 5
}
