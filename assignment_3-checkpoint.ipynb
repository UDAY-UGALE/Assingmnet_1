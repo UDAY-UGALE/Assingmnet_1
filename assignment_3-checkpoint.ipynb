{
 "cells": [
  {
   "cell_type": "markdown",
   "id": "a5d158bc",
   "metadata": {},
   "source": [
    "## 1. Why are functions advantageous to have in your programs?"
   ]
  },
  {
   "cell_type": "markdown",
   "id": "168ed450",
   "metadata": {},
   "source": [
    "   ANS: Functions reduce the need for duplicate code. This makes programs shorter, easier to read, and easier to update."
   ]
  },
  {
   "cell_type": "markdown",
   "id": "3c0edc0b",
   "metadata": {},
   "source": [
    "## 2. When does the code in a function run: when it&#39;s specified or when it&#39;s called?"
   ]
  },
  {
   "cell_type": "markdown",
   "id": "6444beec",
   "metadata": {},
   "source": [
    "  ANS:The code in a function executes when the function is called, not when the function is defined."
   ]
  },
  {
   "cell_type": "markdown",
   "id": "3e0b6687",
   "metadata": {},
   "source": [
    "# 3. What statement creates a function?"
   ]
  },
  {
   "cell_type": "markdown",
   "id": "0f5c1644",
   "metadata": {},
   "source": [
    "  ANS :the statement that creates a function is the def statement\n",
    "  \n",
    "\n",
    " "
   ]
  },
  {
   "cell_type": "markdown",
   "id": "730b7efc",
   "metadata": {},
   "source": [
    "# 4. What is the difference between a function and a function call?"
   ]
  },
  {
   "cell_type": "markdown",
   "id": "6e16e572",
   "metadata": {},
   "source": [
    " ANS: Function: A function is a block of reusable code that performs a specific task. \n",
    "                It is defined using the def keyword\n",
    "                \n",
    "      Function Call: A function call is the act of invoking or executing a function with specific arguments          \n",
    "            "
   ]
  },
  {
   "cell_type": "markdown",
   "id": "37369ca7",
   "metadata": {},
   "source": [
    "# 5. How many global scopes are there in a Python program? How many local scopes?\n"
   ]
  },
  {
   "cell_type": "markdown",
   "id": "afd05458",
   "metadata": {},
   "source": [
    "  ANS: There is one global scope, and a local scope is created whenever a function is called."
   ]
  },
  {
   "cell_type": "markdown",
   "id": "f7f482d2",
   "metadata": {},
   "source": [
    "## 6. What happens to variables in a local scope when the function call returns?"
   ]
  },
  {
   "cell_type": "markdown",
   "id": "cb52ed23",
   "metadata": {},
   "source": [
    "  ANS: When a function call returns, the local scope associated with that function is destroyed. This means that the variables \n",
    "        defined within the local scope are no longer accessible or existent once the function call has finished executing"
   ]
  },
  {
   "cell_type": "markdown",
   "id": "b22a2446",
   "metadata": {},
   "source": [
    "# 7. What is the concept of a return value? Is it possible to have a return value in an expression?"
   ]
  },
  {
   "cell_type": "markdown",
   "id": "644bb443",
   "metadata": {},
   "source": [
    " ANS: A return value is the value that a function call evaluates to. Like any value, a return value can be used as part of an          expression. "
   ]
  },
  {
   "cell_type": "markdown",
   "id": "ef65ff7f",
   "metadata": {},
   "source": [
    "# 8. If a function does not have a return statement, what is the return value of a call to that function?"
   ]
  },
  {
   "cell_type": "markdown",
   "id": "bf72d2e2",
   "metadata": {},
   "source": [
    "ANS:If there is no return statement for a function, its return value is None"
   ]
  },
  {
   "cell_type": "markdown",
   "id": "ff3fd573",
   "metadata": {},
   "source": [
    "# 9. How do you make a function variable refer to the global variable?"
   ]
  },
  {
   "cell_type": "markdown",
   "id": "c21d060d",
   "metadata": {},
   "source": [
    "ANS:In Python, if you want to make a function variable refer to a global variable, you can use the global keyword within the function. By using the global keyword, you can explicitly indicate that a variable inside the function should refer to the global variable with the same name."
   ]
  },
  {
   "cell_type": "markdown",
   "id": "c6c4fb33",
   "metadata": {},
   "source": [
    "# 10. What is the data type of None?"
   ]
  },
  {
   "cell_type": "markdown",
   "id": "5c612514",
   "metadata": {},
   "source": [
    "ANS :The data type of None is NoneType."
   ]
  },
  {
   "cell_type": "markdown",
   "id": "185182c2",
   "metadata": {},
   "source": [
    "# 11. What does the sentence import areallyourpetsnamederic do?"
   ]
  },
  {
   "cell_type": "markdown",
   "id": "f1b647d3",
   "metadata": {},
   "source": [
    " ANS: That import statement imports a module named areallyourpetsnamederic"
   ]
  },
  {
   "cell_type": "markdown",
   "id": "0592010d",
   "metadata": {},
   "source": [
    "# 12. If you had a bacon() feature in a spam module, what would you call it after importing spam?"
   ]
  },
  {
   "cell_type": "markdown",
   "id": "6ce62d8f",
   "metadata": {},
   "source": [
    "ANS : This function can be called with spam.bacon()."
   ]
  },
  {
   "cell_type": "markdown",
   "id": "741e1db6",
   "metadata": {},
   "source": [
    "# 13. What can you do to save a programme from crashing if it encounters an error?"
   ]
  },
  {
   "cell_type": "markdown",
   "id": "fa9a52e3",
   "metadata": {},
   "source": [
    "ANS : To prevent a program from crashing when it encounters an error, you can implement error handling techniques. Error handling allows you to gracefully handle exceptions or errors that may occur during program execution. By anticipating and handling errors, you can ensure that your program continues running instead of abruptly terminating."
   ]
  },
  {
   "cell_type": "markdown",
   "id": "13d14c1e",
   "metadata": {},
   "source": [
    "# 14. What is the purpose of the try clause? What is the purpose of the except clause?"
   ]
  },
  {
   "cell_type": "markdown",
   "id": "dbd63784",
   "metadata": {},
   "source": [
    "try-The code that could potentially cause an error goes in the try clause.\n",
    "except-The code that executes if an error happens goes in the except clause."
   ]
  },
  {
   "cell_type": "code",
   "execution_count": null,
   "id": "040648e5",
   "metadata": {},
   "outputs": [],
   "source": []
  }
 ],
 "metadata": {
  "kernelspec": {
   "display_name": "Python 3 (ipykernel)",
   "language": "python",
   "name": "python3"
  },
  "language_info": {
   "codemirror_mode": {
    "name": "ipython",
    "version": 3
   },
   "file_extension": ".py",
   "mimetype": "text/x-python",
   "name": "python",
   "nbconvert_exporter": "python",
   "pygments_lexer": "ipython3",
   "version": "3.9.7"
  }
 },
 "nbformat": 4,
 "nbformat_minor": 5
}
