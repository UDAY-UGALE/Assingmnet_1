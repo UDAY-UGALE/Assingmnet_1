{
 "cells": [
  {
   "cell_type": "markdown",
   "id": "ced21b81",
   "metadata": {},
   "source": [
    "# 1) What is the role of the 'else' block in a try-except statement? Provide an example scenario where it would be useful.\n",
    "    \n",
    "-> The 'else' block in a try-except statement is optional. It is executed if no exception is raised in the 'try' block. It provides a way to specify code that should run only when no exceptions occur. \n",
    "\n",
    "-> Example:\n",
    "    \n",
    "try:\n",
    "    result = 10 / 2\n",
    "except ZeroDivisionError:\n",
    "    print(\"Division by zero error!\")\n",
    "else:\n",
    "    print(f\"Result is {result}\")\n"
   ]
  },
  {
   "cell_type": "code",
   "execution_count": 1,
   "id": "f134072e",
   "metadata": {},
   "outputs": [
    {
     "name": "stdout",
     "output_type": "stream",
     "text": [
      "Result is 5.0\n"
     ]
    }
   ],
   "source": [
    "try:\n",
    "    result = 10 / 2\n",
    "except ZeroDivisionError:\n",
    "    print(\"Division by zero error!\")\n",
    "else:\n",
    "    print(f\"Result is {result}\")\n"
   ]
  },
  {
   "cell_type": "markdown",
   "id": "8538481a",
   "metadata": {},
   "source": [
    "# 2) Can a try-except block be nested inside another try-except block? Explain with an example.\n",
    "\n",
    "-> Yes, you can nest try-except blocks inside each other. This is useful when you want to handle different exceptions at different levels of your code.\n",
    "-> Example:\n",
    "    \n",
    "try:\n",
    "    try:\n",
    "        x = int(input(\"Enter a number: \"))\n",
    "        result = 10 / x\n",
    "    except ValueError:\n",
    "        print(\"Invalid input! Please enter a valid number.\")\n",
    "    except ZeroDivisionError:\n",
    "        print(\"Division by zero error!\")\n",
    "except Exception as e:\n",
    "    print(f\"An error occurred: {e}\")\n"
   ]
  },
  {
   "cell_type": "code",
   "execution_count": 3,
   "id": "83e175e4",
   "metadata": {},
   "outputs": [
    {
     "name": "stdout",
     "output_type": "stream",
     "text": [
      "Enter a number: 0\n",
      "Division by zero error!\n"
     ]
    }
   ],
   "source": [
    "try:\n",
    "    try:\n",
    "        x = int(input(\"Enter a number: \"))\n",
    "        result = 10 / x\n",
    "    except ValueError:\n",
    "        print(\"Invalid input! Please enter a valid number.\")\n",
    "    except ZeroDivisionError:\n",
    "        print(\"Division by zero error!\")\n",
    "except Exception as e:\n",
    "    print(f\"An error occurred: {e}\")\n"
   ]
  },
  {
   "cell_type": "markdown",
   "id": "0d5f665e",
   "metadata": {},
   "source": [
    "# 3) How can you create a custom exception class in Python? Provide an example that\n",
    "demonstrates its usage.\n",
    "\n",
    "-> You can create custom exception classes in Python by inheriting from the Exception class or its subclasses.\n",
    "-> Custom exceptions are useful when you want to define specific error conditions for your application.\n",
    "-> Example:\n",
    "    \n",
    "class CustomError(Exception):\n",
    "    def __init__(self, message):\n",
    "        self.message = message\n",
    "        super().__init__(self.message)\n",
    "\n",
    "#Raise the custom exception\n",
    "raise CustomError(\"This is a custom exception.\")\n"
   ]
  },
  {
   "cell_type": "code",
   "execution_count": 4,
   "id": "4c9ca9d5",
   "metadata": {},
   "outputs": [
    {
     "ename": "CustomError",
     "evalue": "This is a custom exception.",
     "output_type": "error",
     "traceback": [
      "\u001b[1;31m---------------------------------------------------------------------------\u001b[0m",
      "\u001b[1;31mCustomError\u001b[0m                               Traceback (most recent call last)",
      "\u001b[1;32m~\\AppData\\Local\\Temp\\ipykernel_28012\\888583522.py\u001b[0m in \u001b[0;36m<module>\u001b[1;34m\u001b[0m\n\u001b[0;32m      5\u001b[0m \u001b[1;33m\u001b[0m\u001b[0m\n\u001b[0;32m      6\u001b[0m \u001b[1;31m# Raise the custom exception\u001b[0m\u001b[1;33m\u001b[0m\u001b[1;33m\u001b[0m\u001b[0m\n\u001b[1;32m----> 7\u001b[1;33m \u001b[1;32mraise\u001b[0m \u001b[0mCustomError\u001b[0m\u001b[1;33m(\u001b[0m\u001b[1;34m\"This is a custom exception.\"\u001b[0m\u001b[1;33m)\u001b[0m\u001b[1;33m\u001b[0m\u001b[1;33m\u001b[0m\u001b[0m\n\u001b[0m",
      "\u001b[1;31mCustomError\u001b[0m: This is a custom exception."
     ]
    }
   ],
   "source": [
    "class CustomError(Exception):\n",
    "    def __init__(self, message):\n",
    "        self.message = message\n",
    "        super().__init__(self.message)\n",
    "\n",
    "# Raise the custom exception\n",
    "raise CustomError(\"This is a custom exception.\")\n"
   ]
  },
  {
   "cell_type": "markdown",
   "id": "10df839a",
   "metadata": {},
   "source": [
    "# 4) What are some common exceptions that are built-in to Python?\n",
    "\n",
    "-> Python has many built-in exceptions. Some common ones include:\n",
    "\n",
    "SyntaxError: Raised for syntax errors in Python code.\n",
    "ValueError: Raised when a function receives an argument of the correct type but an inappropriate value.\n",
    "TypeError: Raised when an operation or function is applied to an object of inappropriate type.\n",
    "ZeroDivisionError: Raised when dividing by zero.\n",
    "FileNotFoundError: Raised when trying to open a file that doesn't exist."
   ]
  },
  {
   "cell_type": "markdown",
   "id": "87613183",
   "metadata": {},
   "source": [
    "# 5) What is logging in Python, and why is it important in software development?\n",
    "\n",
    "-> Logging in Python is a built-in module that provides a flexible and configurable way to record messages from your code. \n",
    "-> It's essential in software development for debugging, monitoring, and troubleshooting applications. "
   ]
  },
  {
   "cell_type": "markdown",
   "id": "5fff8ea6",
   "metadata": {},
   "source": [
    "# 6) Explain the purpose of log levels in Python logging and provide examples of when each log level would be appropriate.\n",
    "\n",
    "-> Python's logging module supports various log levels, including:\n",
    "\n",
    "-> DEBUG: Detailed information for debugging purposes.\n",
    "    Example Use Cases:\n",
    "    Tracing variable values for debugging.\n",
    "    Recording detailed steps in a complex algorithm.\n",
    "    Logging socket communication details.\n",
    "\n",
    "import logging\n",
    "logging.debug(\"This is a debug message.\")\n",
    "    \n",
    "-> INFO: General information about the program's execution.\n",
    "    Example Use Cases:\n",
    "    Start and stop messages for major processes.\n",
    "    Application initialization information.\n",
    "    General application state updates.\n",
    "    \n",
    "import logging\n",
    "logging.info(\"Application started.\")\n",
    "    \n",
    "-> WARNING: Indication of potential issues.\n",
    "    Example Use Cases:\n",
    "    Deprecated function usage warnings.\n",
    "    Resource usage nearing limits.\n",
    "    Unusual but recoverable errors.\n",
    "    \n",
    "import logging\n",
    "logging.warning(\"Resource usage approaching limit.\")\n",
    "    \n",
    "-> ERROR: Indication of errors that need attention.\n",
    "    Example Use Cases:\n",
    "    File not found errors.\n",
    "    Database connection failures.\n",
    "    Invalid user input that can be gracefully handled.\n",
    "    \n",
    "import logging\n",
    "try:\n",
    "    result = 10 / 0  # This raises a ZeroDivisionError\n",
    "except Exception as e:\n",
    "    logging.error(f\"An error occurred: {e}\")\n",
    "\n",
    "-> CRITICAL: Critical errors that may lead to application failure.\n",
    "    Example Use Cases:\n",
    "    Unrecoverable database corruption.\n",
    "    Critical hardware failures.\n",
    "    Security breaches or unauthorized access.\n",
    "\n",
    "import logging\n",
    "logging.critical(\"Critical error: System compromised.\")\n",
    "    "
   ]
  },
  {
   "cell_type": "markdown",
   "id": "bb64e781",
   "metadata": {},
   "source": [
    "# 7) What are log formatters in Python logging, and how can you customise the log\n",
    "message format using formatters?\n",
    "\n",
    "-> Log formatters in Python logging determine the format of log messages. You can customize log message formats using the \"Formatter\" class. \n",
    "-> Example: This will log messages with a timestamp, logger name, log level, and the message itself in the specified format.\n",
    "\n",
    "import logging\n",
    "\n",
    "logger = logging.getLogger(\"my_logger\")\n",
    "logger.setLevel(logging.DEBUG)\n",
    "\n",
    "formatter = logging.Formatter('%(asctime)s - %(name)s - %(levelname)s - %(message)s')\n",
    "\n",
    "#Create a file handler and set the formatter\n",
    "file_handler = logging.FileHandler('app.log')\n",
    "file_handler.setFormatter(formatter)\n",
    "\n",
    "#Add the file handler to the logger\n",
    "logger.addHandler(file_handler)\n",
    "\n",
    "logger.info(\"Hello, World!\")\n",
    "    \n",
    "    \n"
   ]
  },
  {
   "cell_type": "markdown",
   "id": "e8948159",
   "metadata": {},
   "source": [
    "# 8) How can you set up logging to capture log messages from multiple modules or classes in a Python application?\n",
    "\n",
    "-> To capture log messages from multiple modules or classes in a Python application, you can define and configure a logger in each module or class and configure a root logger in your application. \n",
    "-> You can then set the log level and handlers for each logger individually.\n"
   ]
  },
  {
   "cell_type": "markdown",
   "id": "f63e2d04",
   "metadata": {},
   "source": [
    "# 9) What is the difference between the logging and print statements in Python? When should you use logging over print statements in a real-world application?\n",
    "\n",
    "-> \n",
    "1.Output Destination:\n",
    "\n",
    "Logging: You can configure logging to write log messages to various destinations like files, console, network sockets, etc.\n",
    "Print Statements: Print statements always output to the standard output (usually the console).\n",
    "    \n",
    "2.Configurability:\n",
    "\n",
    "Logging: Highly configurable with options to set log levels, specify different handlers for various outputs, and format log messages.\n",
    "Print Statements: Not configurable; prints directly to the console without any formatting options.\n",
    "    \n",
    "3.Error Handling:\n",
    "\n",
    "Logging: Suitable for handling and tracking errors systematically. It's the preferred choice for structured error handling and reporting.\n",
    "Print Statements: Not suitable for structured error handling and tracking. It lacks the ability to categorize and prioritize errors.\n",
    "    \n",
    "4.Debugging:\n",
    "\n",
    "Logging: Valuable for debugging as it provides context and categorization of messages, making it easier to identify and diagnose issues.\n",
    "Print Statements: Can be used for debugging but lacks structure and categorization, which can make debugging more challenging in complex applications.\n",
    "    \n",
    "When to use logging over print statements in a real-world application:\n",
    "\n",
    "1)Production Use: Use logging in production applications because it provides structured and controlled output, making it easier   to monitor and troubleshoot issues without cluttering the console.\n",
    "2)Error Tracking: Logging is essential for systematically tracking and handling errors. \n",
    "3)Debugging: While both logging and print statements can be used for debugging, logging is more versatile due to its different     log levels, allowing you to control the level of detail in your debug output.\n",
    "4)Performance: In production, excessive print statements can significantly impact performance due to console output. Logging,     when properly configured, has minimal performance impact.   \n",
    "    \n",
    "    "
   ]
  },
  {
   "cell_type": "markdown",
   "id": "43871255",
   "metadata": {},
   "source": [
    "# 10) Write a Python program that logs a message to a file named \"app.log\" with the following requirements:\n",
    "● The log message should be \"Hello, World!\"\n",
    "● The log level should be set to \"INFO.\"\n",
    "● The log file should append new log entries without overwriting previous ones.\n",
    "\n",
    "->\n",
    "import logging\n",
    "\n",
    "logging.basicConfig(filename='app.log', level=logging.INFO)\n",
    "logging.info(\"Hello, World!\")\n"
   ]
  },
  {
   "cell_type": "code",
   "execution_count": 7,
   "id": "5fcce479",
   "metadata": {},
   "outputs": [],
   "source": [
    "import logging\n",
    "\n",
    "logging.basicConfig(filename='app.log', level=logging.INFO)\n",
    "logging.info(\"Hello, World!\")\n"
   ]
  },
  {
   "cell_type": "markdown",
   "id": "6b0d07e1",
   "metadata": {},
   "source": [
    "# 11) Create a Python program that logs an error message to the console and a file named\n",
    "\"errors.log\" if an exception occurs during the program's execution. The error message should include the exception type and a timestamp.\n",
    "\n",
    "-> This Python program logs an error message to both the console and a file named \"errors.log\" if an exception occurs during execution, including the exception type and a timestamp:"
   ]
  },
  {
   "cell_type": "code",
   "execution_count": 8,
   "id": "50e66fb7",
   "metadata": {},
   "outputs": [
    {
     "name": "stderr",
     "output_type": "stream",
     "text": [
      "An error occurred: division by zero\n"
     ]
    }
   ],
   "source": [
    "import logging\n",
    "import datetime\n",
    "\n",
    "logging.basicConfig(filename='errors.log', level=logging.ERROR)\n",
    "console_handler = logging.StreamHandler()\n",
    "console_handler.setLevel(logging.ERROR)\n",
    "\n",
    "formatter = logging.Formatter('%(asctime)s - %(levelname)s - %(message)s')\n",
    "logging.getLogger('').addHandler(console_handler)\n",
    "\n",
    "try:\n",
    "    result = 10 / 0  # This will raise a ZeroDivisionError\n",
    "except Exception as e:\n",
    "    logging.error(f\"An error occurred: {e}\")\n"
   ]
  },
  {
   "cell_type": "code",
   "execution_count": null,
   "id": "822d9c41",
   "metadata": {},
   "outputs": [],
   "source": []
  }
 ],
 "metadata": {
  "kernelspec": {
   "display_name": "Python 3 (ipykernel)",
   "language": "python",
   "name": "python3"
  },
  "language_info": {
   "codemirror_mode": {
    "name": "ipython",
    "version": 3
   },
   "file_extension": ".py",
   "mimetype": "text/x-python",
   "name": "python",
   "nbconvert_exporter": "python",
   "pygments_lexer": "ipython3",
   "version": "3.9.7"
  }
 },
 "nbformat": 4,
 "nbformat_minor": 5
}
