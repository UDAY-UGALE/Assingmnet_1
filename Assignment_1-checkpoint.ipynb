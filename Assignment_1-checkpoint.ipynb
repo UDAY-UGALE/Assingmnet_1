{
 "cells": [
  {
   "cell_type": "markdown",
   "id": "b4e8d55c",
   "metadata": {},
   "source": [
    "# 1. In the below elements which of them are values or an expression? eg:- values can be integer or string and expressions will be mathematical operators."
   ]
  },
  {
   "cell_type": "code",
   "execution_count": 1,
   "id": "d33ca541",
   "metadata": {},
   "outputs": [
    {
     "data": {
      "text/plain": [
       "' * = expression\\n    Hello = string\\n    -87.8=integer (float)\\n    - = expression\\n    / = expression\\n    + = expression\\n    6 = integer   '"
      ]
     },
     "execution_count": 1,
     "metadata": {},
     "output_type": "execute_result"
    }
   ],
   "source": [
    "''' * = expression\n",
    "    Hello = string\n",
    "    -87.8=integer (float)\n",
    "    - = expression\n",
    "    / = expression\n",
    "    + = expression\n",
    "    6 = integer   '''"
   ]
  },
  {
   "cell_type": "markdown",
   "id": "53d6ca91",
   "metadata": {},
   "source": [
    "# 2. What is the difference between string and variable?"
   ]
  },
  {
   "cell_type": "code",
   "execution_count": 6,
   "id": "f4e306f1",
   "metadata": {},
   "outputs": [
    {
     "data": {
      "text/plain": [
       "\" String = A string refers to a sequence of characters, such as letters, numbers, and symbols, \\n             that are treated as a single unit. Strings are commonly used \\n             to represent textual data in programming languages.\\n             \\n   Variable = A variable is a named storage location in a computer's memory that can hold a value.\\n              They can hold different types of values, including strings, numbers, booleans, and more. \""
      ]
     },
     "execution_count": 6,
     "metadata": {},
     "output_type": "execute_result"
    }
   ],
   "source": [
    "''' String = A string refers to a sequence of characters, such as letters, numbers, and symbols, \n",
    "             that are treated as a single unit. Strings are commonly used \n",
    "             to represent textual data in programming languages.\n",
    "             \n",
    "   Variable = A variable is a named storage location in a computer's memory that can hold a value.\n",
    "              They can hold different types of values, including strings, numbers, booleans, and more. '''\n"
   ]
  },
  {
   "cell_type": "markdown",
   "id": "89e63eb8",
   "metadata": {},
   "source": [
    "# 3. Describe three different data types."
   ]
  },
  {
   "cell_type": "code",
   "execution_count": 8,
   "id": "1e07660b",
   "metadata": {},
   "outputs": [
    {
     "data": {
      "text/plain": [
       "'Integer (int)= An integer is a whole number without any decimal point. It can be a positive number, \\n                  negative number, or zero.\\n                  \\n   String (str) = A string is a sequence of characters enclosed within single quotes (\\' \\') or double quotes\\n                  (\" \"). Strings are used to represent textual data, such as names, sentences, or any other \\n                  collection of characters.\\n                  \\n   Boolean (bool)=A boolean data type represents one of two possible values: True or False. Booleans are used\\n                  to express the truth or falsity of a statement or condition.'"
      ]
     },
     "execution_count": 8,
     "metadata": {},
     "output_type": "execute_result"
    }
   ],
   "source": [
    "'''Integer (int)= An integer is a whole number without any decimal point. It can be a positive number, \n",
    "                  negative number, or zero.\n",
    "                  \n",
    "   String (str) = A string is a sequence of characters enclosed within single quotes (' ') or double quotes\n",
    "                  (\" \"). Strings are used to represent textual data, such as names, sentences, or any other \n",
    "                  collection of characters.\n",
    "                  \n",
    "   Boolean (bool)=A boolean data type represents one of two possible values: True or False. Booleans are used\n",
    "                  to express the truth or falsity of a statement or condition.'''"
   ]
  },
  {
   "cell_type": "markdown",
   "id": "1f84503c",
   "metadata": {},
   "source": [
    "# 4. What is an expression made up of? What do all expressions do?"
   ]
  },
  {
   "cell_type": "code",
   "execution_count": 9,
   "id": "2194972f",
   "metadata": {},
   "outputs": [
    {
     "data": {
      "text/plain": [
       "'Programmers refer to a collection of values, variables, operators, and function calls that results in a \\n   single value as an expression. Expressions serve as the fundamental building blocks of programming languages\\n   and are employed for computation, comparison, and output.\\n    \\n    There are 3 types of :\\n      Simple Arithmetic Expression:\\n        2 + 3\\n\\n     Variable Assignment Expression:\\n        x = 5\\n\\n     Compound Arithmetic Expression:\\n       (2 * x) + (y - 3)\\n       \\n simple arithmetic expression= An arithmetic expression in which the only operators are +, , - and exponentiation, is \\n                               called a simple arithmetic expression.\\n                               \\n Variable Assignment Expression = The assignment operator, denoted by the “=” symbol, is the operator that is used to\\n                                  assign values to variables in Python\\n                                \\n Compound Arithmetic Expression = A compound arithmetic expression refers to an expression that combines multiple arithmetic \\n                                  operations or sub-expressions using arithmetic operators.'"
      ]
     },
     "execution_count": 9,
     "metadata": {},
     "output_type": "execute_result"
    }
   ],
   "source": [
    "'''Programmers refer to a collection of values, variables, operators, and function calls that results in a \n",
    "   single value as an expression. Expressions serve as the fundamental building blocks of programming languages\n",
    "   and are employed for computation, comparison, and output.\n",
    "    \n",
    "    There are 3 types of :\n",
    "      Simple Arithmetic Expression:\n",
    "        2 + 3\n",
    "\n",
    "     Variable Assignment Expression:\n",
    "        x = 5\n",
    "\n",
    "     Compound Arithmetic Expression:\n",
    "       (2 * x) + (y - 3)\n",
    "       \n",
    " simple arithmetic expression= An arithmetic expression in which the only operators are +, , - and exponentiation, is \n",
    "                               called a simple arithmetic expression.\n",
    "                               \n",
    " Variable Assignment Expression = The assignment operator, denoted by the “=” symbol, is the operator that is used to\n",
    "                                  assign values to variables in Python\n",
    "                                \n",
    " Compound Arithmetic Expression = A compound arithmetic expression refers to an expression that combines multiple arithmetic \n",
    "                                  operations or sub-expressions using arithmetic operators.'''"
   ]
  },
  {
   "cell_type": "markdown",
   "id": "f1f7f4d9",
   "metadata": {},
   "source": [
    "# 5. This assignment statements, like spam = 10. What is the difference between an expression and a statement?"
   ]
  },
  {
   "cell_type": "code",
   "execution_count": 11,
   "id": "316442ca",
   "metadata": {},
   "outputs": [
    {
     "data": {
      "text/plain": [
       "'Expression: An expression is a combination of values, variables, operators, and function calls that can be evaluated \\n            to produce a single value. It represents a computation or a calculation. Expressions can be as simple as a \\n            single value or as complex as a combination of multiple sub-expressions.\\n             \\n            e.g=    spam = 10\\n                     y = 7 * (x + 9)\\nStatement: A statement, on the other hand, is a complete instruction or a command that performs an action. Statements \\n           are used to control the flow of execution, define behavior, and manipulate data in a program. Statements can \\n           be as simple as an assignment or as complex as a loop or a function definition.\\n            \\n            e.g=    spam = 10\\n                    y = 2 * (x + 3)\\n                    print(y)'"
      ]
     },
     "execution_count": 11,
     "metadata": {},
     "output_type": "execute_result"
    }
   ],
   "source": [
    "'''Expression: An expression is a combination of values, variables, operators, and function calls that can be evaluated \n",
    "            to produce a single value. It represents a computation or a calculation. Expressions can be as simple as a \n",
    "            single value or as complex as a combination of multiple sub-expressions.\n",
    "             \n",
    "            e.g=    spam = 10\n",
    "                     y = 7 * (x + 9)\n",
    "Statement: A statement, on the other hand, is a complete instruction or a command that performs an action. Statements \n",
    "           are used to control the flow of execution, define behavior, and manipulate data in a program. Statements can \n",
    "           be as simple as an assignment or as complex as a loop or a function definition.\n",
    "            \n",
    "            e.g=    spam = 10\n",
    "                    y = 2 * (x + 3)\n",
    "                    print(y)'''\n"
   ]
  },
  {
   "cell_type": "markdown",
   "id": "fd8d44e9",
   "metadata": {},
   "source": [
    "# 6. After running the following code, what does the variable bacon contain?\n",
    "# bacon = 22\n",
    "# bacon + 1"
   ]
  },
  {
   "cell_type": "code",
   "execution_count": 15,
   "id": "c53689c3",
   "metadata": {},
   "outputs": [
    {
     "name": "stdout",
     "output_type": "stream",
     "text": [
      "23\n"
     ]
    }
   ],
   "source": [
    "bacon = 22\n",
    "bacon = bacon + 1\n",
    "print(bacon)\n",
    "   #the value of bacon would be 23 after executing this code."
   ]
  },
  {
   "cell_type": "markdown",
   "id": "52f0b83f",
   "metadata": {},
   "source": [
    "# 7. What should the values of the following two terms be?\n",
    "# 'spam'+'spamspam'\n",
    "# 'spam' * 3\n",
    "      \n",
    " "
   ]
  },
  {
   "cell_type": "code",
   "execution_count": 23,
   "id": "6b581753",
   "metadata": {},
   "outputs": [
    {
     "data": {
      "text/plain": [
       "\"the values of the two terms are both 'spamspamspam' \""
      ]
     },
     "execution_count": 23,
     "metadata": {},
     "output_type": "execute_result"
    }
   ],
   "source": [
    "'''the values of the two terms are both 'spamspamspam' '''\n"
   ]
  },
  {
   "cell_type": "markdown",
   "id": "abc0a7d9",
   "metadata": {},
   "source": [
    "# 8. Why is eggs a valid variable name while 100 is invalid?"
   ]
  },
  {
   "cell_type": "code",
   "execution_count": 24,
   "id": "8fc2cb4f",
   "metadata": {},
   "outputs": [
    {
     "data": {
      "text/plain": [
       "\" Variable names in Python must start with a letter (a-z, A-Z) or an underscore (_). In the case of 'eggs', \\n    it starts with the letter 'e', which is allowed. \\n    However, '100' starts with a numeric character, '1', which is not permitted.\""
      ]
     },
     "execution_count": 24,
     "metadata": {},
     "output_type": "execute_result"
    }
   ],
   "source": [
    "''' Variable names in Python must start with a letter (a-z, A-Z) or an underscore (_). In the case of 'eggs', \n",
    "    it starts with the letter 'e', which is allowed. \n",
    "    However, '100' starts with a numeric character, '1', which is not permitted.'''"
   ]
  },
  {
   "cell_type": "markdown",
   "id": "5dd09e4d",
   "metadata": {},
   "source": [
    "# 9. What three functions can be used to get the integer, floating-point number, or string version of a value?"
   ]
  },
  {
   "cell_type": "code",
   "execution_count": 25,
   "id": "2b3e4bb6",
   "metadata": {},
   "outputs": [
    {
     "data": {
      "text/plain": [
       "'int():  This function can be used to convert a value to an integer. It takes a numeric value or a string representation of\\n        a number as an argument and returns the corresponding integer. If the argument is a floating-point number, it\\n        truncates the decimal part. \\n        e.g= x= int(3)\\n        \\nfloat(): This function converts a value to a floating-point number. It takes a numeric value or a string representation \\n         of a number as an argument and returns the corresponding floating-point number. If the argument is an integer, \\n         it adds a decimal point.\\n         e.g.: x=float(3.14)\\n    \\nstr(): This function converts a value to a string representation. It takes any value as an argument and returns its \\n       string representation.\\n       e.g: a=\"Hello\"'"
      ]
     },
     "execution_count": 25,
     "metadata": {},
     "output_type": "execute_result"
    }
   ],
   "source": [
    "'''int():  This function can be used to convert a value to an integer. It takes a numeric value or a string representation of\n",
    "        a number as an argument and returns the corresponding integer. If the argument is a floating-point number, it\n",
    "        truncates the decimal part. \n",
    "        e.g= x= int(3)\n",
    "        \n",
    "float(): This function converts a value to a floating-point number. It takes a numeric value or a string representation \n",
    "         of a number as an argument and returns the corresponding floating-point number. If the argument is an integer, \n",
    "         it adds a decimal point.\n",
    "         e.g.: x=float(3.14)\n",
    "    \n",
    "str(): This function converts a value to a string representation. It takes any value as an argument and returns its \n",
    "       string representation.\n",
    "       e.g: a=\"Hello\"'''"
   ]
  },
  {
   "cell_type": "markdown",
   "id": "bda1c2c4",
   "metadata": {},
   "source": [
    "# 10. Why does this expression cause an error? How can you fix it?\n",
    "#  'I have eaten '+ 99 +' burritos.'"
   ]
  },
  {
   "cell_type": "code",
   "execution_count": 27,
   "id": "058088e4",
   "metadata": {},
   "outputs": [
    {
     "data": {
      "text/plain": [
       "\"The expression 'I have eaten ' + 99 + ' burritos.' causes an error because you are trying to concatenate\\n   a string ('I have eaten ') with an integer (99) without converting the integer to a string. In Python, the \\n   + operator is used for concatenating strings when both operands are strings\\n   \\n    fix the error, you need to convert the integer 99 to a string before concatenating it with the other strings.\\n    ('I have eaten ' + str(99) + ' burritos.')\""
      ]
     },
     "execution_count": 27,
     "metadata": {},
     "output_type": "execute_result"
    }
   ],
   "source": [
    "'''The expression 'I have eaten ' + 99 + ' burritos.' causes an error because you are trying to concatenate\n",
    "   a string ('I have eaten ') with an integer (99) without converting the integer to a string. In Python, the \n",
    "   + operator is used for concatenating strings when both operands are strings\n",
    "   \n",
    "    fix the error, you need to convert the integer 99 to a string before concatenating it with the other strings.\n",
    "    ('I have eaten ' + str(99) + ' burritos.')'''\n",
    "\n",
    "   "
   ]
  },
  {
   "cell_type": "code",
   "execution_count": null,
   "id": "7db208b3",
   "metadata": {},
   "outputs": [],
   "source": []
  }
 ],
 "metadata": {
  "kernelspec": {
   "display_name": "Python 3 (ipykernel)",
   "language": "python",
   "name": "python3"
  },
  "language_info": {
   "codemirror_mode": {
    "name": "ipython",
    "version": 3
   },
   "file_extension": ".py",
   "mimetype": "text/x-python",
   "name": "python",
   "nbconvert_exporter": "python",
   "pygments_lexer": "ipython3",
   "version": "3.9.7"
  }
 },
 "nbformat": 4,
 "nbformat_minor": 5
}
